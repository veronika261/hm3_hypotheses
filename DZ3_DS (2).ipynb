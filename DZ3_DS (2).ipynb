{
  "cells": [
    {
      "cell_type": "markdown",
      "id": "4c5300b0",
      "metadata": {
        "id": "4c5300b0"
      },
      "source": [
        "# Дз 3. Тестирование статистических гипотез"
      ]
    },
    {
      "cell_type": "markdown",
      "id": "8dbd516f",
      "metadata": {},
      "source": [
        "# Все гипотезы будут проверяться для уровня значимости (alpha), равного 0.05 ."
      ]
    },
    {
      "cell_type": "markdown",
      "id": "e41ea851",
      "metadata": {
        "id": "e41ea851"
      },
      "source": [
        "<div class=\"alert alert-info\" role=\"alert\">\n",
        "\n",
        "Важно!\n",
        "\n",
        "* Плагиат карается обнулением работы\n",
        "* При использовании чужого кода из открытых источников необходимо указать ссылку на источник\n",
        "* В каждой задаче необходимо обосновывать выбор статистического критерия, формулировать нулевую и альтернативную гипотезу и делать интерпретацию получившихся результатов, а также содержательный вывод.\n",
        "* Весь текст оформляется строго в ячейках типа markdown"
      ]
    },
    {
      "cell_type": "markdown",
      "id": "e463f5b5",
      "metadata": {
        "id": "e463f5b5"
      },
      "source": [
        "## Задача 1. Осьминог Пауль (2 балла)\n",
        "\n",
        "\n",
        "В период с 2008 по 2010 год в Германии жил Осьминог Пауль, который был известен тем, что мог предсказывать результаты матчей с участием сборной Германии.     \n",
        "   \n",
        "В таблице ниже вы можете видеть результаты его предсказаний: \n"
      ]
    },
    {
      "cell_type": "markdown",
      "id": "63504b80",
      "metadata": {
        "id": "63504b80"
      },
      "source": [
        "<a href=\"https://ibb.co/VWnc5yG\"><img src=\"https://i.ibb.co/QFS3tBV/image.jpg\" alt=\"image\" border=\"0\"></a>"
      ]
    },
    {
      "cell_type": "markdown",
      "id": "346f6376",
      "metadata": {
        "id": "346f6376"
      },
      "source": [
        "Если считать, что случайным образом мы угадывали ли бы 50% матчей, то можно ли утверждать, что осьминог Пауль был талантливым экстрасенсом со способностями к предсказаниям? Важно! Учитывайте только факт угадывания или неугадывания, остальные параметры матчей не важны."
      ]
    },
    {
      "cell_type": "markdown",
      "id": "9072470f",
      "metadata": {
        "id": "9072470f"
      },
      "source": [
        "### ╰( ͡° ͜ʖ ͡° )つ──☆ сотворите статистическую магию\n",
        "H0: Пауль неталантливый экстрасенс, угадывает с вероятностью 0.5 и меньше \n",
        "H1: Пауль талантливый экстрасенс, угадывает с вероятностью больше 0.5\n"
      ]
    },
    {
      "cell_type": "code",
      "execution_count": null,
      "id": "417c257f",
      "metadata": {},
      "outputs": [],
      "source": [
        "from scipy.stats import binomtest\n",
        "binomtest(11, 13, 0.5, alternative='greater')"
      ]
    },
    {
      "cell_type": "markdown",
      "id": "cdf5c3ca",
      "metadata": {},
      "source": [
        "Так как pvalue меньше 0.05, H0 отвергается, Пауль угадывает с вероятностью больше 0.5, то есть он талантливый."
      ]
    },
    {
      "cell_type": "markdown",
      "id": "de312a8f",
      "metadata": {
        "id": "de312a8f"
      },
      "source": [
        "## Задача 2.  Корм и котики (2 балла)\n",
        "\n",
        "    \n",
        "Новый корм для котиков рекламируется с помощью рекламного баннера. Отдел маркетинга разработал для рекламы новый баннер. Они считают, что он более красивый. Перед фирмой возникла необходимость проверить какой из двух баннеров лучше.\n",
        "\n",
        "Для этого была создана специальная веб-форма. В этой веб-форме людям по очереди демонстрировали оба баннера и просили поставить лайк, если баннер нравится человеку. Если человеку нравятся оба баннера, он может поставить два лайка. Если ему не нравится ни один баннер, он может не ставить лайки вовсе. Собранные в конечном итоге данные находятся в табличке.\n",
        "\n",
        "Можно ли утверждать, что оба баннера одинаково хороши? Сформулируйте статистическую гипотезу для проверки того, что оба баннера выбирают одинаково часто. Проверьте ее и сделайте выводы.\n"
      ]
    },
    {
      "cell_type": "markdown",
      "id": "a0bff99f",
      "metadata": {},
      "source": [
        "H0: Мат ожидание лайков у обоих баннеров совпадают\n",
        "H1: Мат ожидание лайков у обоих баннеров не совпадают\n",
        "Можно сказать, что оба банера хороши, если у обоих одинаковое количество лайков.\n",
        "Поэтому будет использоваться ztest о равенстве мат ожиданий лайков"
      ]
    },
    {
      "cell_type": "code",
      "execution_count": null,
      "id": "167378f2",
      "metadata": {
        "id": "167378f2"
      },
      "outputs": [],
      "source": [
        "### ╰( ͡° ͜ʖ ͡° )つ──☆ сотворите статистическую магию\n",
        "from statsmodels.stats.proportion import proportions_ztest\n",
        "import pandas as pd"
      ]
    },
    {
      "cell_type": "code",
      "execution_count": null,
      "id": "530a85fe",
      "metadata": {},
      "outputs": [],
      "source": [
        "banners = pd.read_csv('banner_click_stat.csv', sep='\\t', names=['first', 'second'])\n",
        "first_1 = banners['first'].value_counts()[1]\n",
        "second_1 = banners['second'].value_counts()[1]"
      ]
    },
    {
      "cell_type": "code",
      "execution_count": null,
      "id": "f695ae11",
      "metadata": {},
      "outputs": [],
      "source": [
        "proportions_ztest((first_1, second_1), (1000, 1000))"
      ]
    },
    {
      "cell_type": "markdown",
      "id": "e071732d",
      "metadata": {},
      "source": [
        "Так как pvalue больше 0.05, H0 не отвергается, следовательно, оба баннера одинаково хороши."
      ]
    },
    {
      "cell_type": "markdown",
      "id": "ceefe195",
      "metadata": {
        "id": "ceefe195"
      },
      "source": [
        "## Задача 3. Немного АВ-тестов (3 балла)\n",
        "## Игра Cookie Cat"
      ]
    },
    {
      "cell_type": "markdown",
      "id": "7a6e5960",
      "metadata": {
        "id": "7a6e5960"
      },
      "source": [
        "В этом задании мы поработаем с данными Cookie Cats - популярной игры-головоломки, которую разработала компания Tactile Entertainment. В этой игре игрок должен соединять одинаковые элементы в ряд, чтобы очистить поле и выиграть уровень. "
      ]
    },
    {
      "cell_type": "markdown",
      "id": "f010877f",
      "metadata": {
        "id": "f010877f"
      },
      "source": [
        "<p style=\"align: center;\"><img align=center src=\"https://i.ytimg.com/vi/iPxZIp0cbJE/maxresdefault.jpg\"  width=500></p>\n",
        " \n",
        " \n",
        "<p style=\"align: center;\"><img align=center src=\"https://s3.amazonaws.com/assets.datacamp.com/production/project_184/img/cc_gates.png\"  width=500></p>\n"
      ]
    },
    {
      "cell_type": "markdown",
      "id": "45a869f8",
      "metadata": {
        "id": "45a869f8"
      },
      "source": [
        "По мере прохождения уровней перед игроками появляются ворота, открытия которых нужно ждать какое-то время или пропускать их, совершая покупки в приложении. С точки зрения создателей эти ворота повышают интерес к игре и стимулируют к вложению денег в игру.\n"
      ]
    },
    {
      "cell_type": "markdown",
      "id": "1992bbd9",
      "metadata": {
        "id": "1992bbd9"
      },
      "source": [
        "Но у создателей появляется важный вопрос: **где лучше всего ставить ворота?**\n",
        "Первоначально первые ворота были размещены на уровне 30. Однако есть гипотеза, что лучше переместить их на уровень 40. В этом задании вам предлагается проанализировать результаты AB-теста, в котором создатели переместили первые ворота в Cookie Cats с 30 уровня на уровень 40. "
      ]
    },
    {
      "cell_type": "markdown",
      "id": "0178c412",
      "metadata": {
        "id": "0178c412"
      },
      "source": [
        "**Данные получены от 90 189 игроков, которые установили игру во время проведения AB-теста. Переменные:**\n",
        "\n",
        "* `userid` - уникальный номер, идентифицирующий каждого игрока.\n",
        "\n",
        "* `version` - был ли игрок помещен в контрольную группу (gate_30 - ворота на уровне 30) или в тестовую группу (gate_40 - ворота на уровне 40).\n",
        "\n",
        "* `sum_gamerounds` - количество игровых раундов, сыгранных игроком в течение первой недели после установки\n",
        "* `retention_1` - вернулся ли игрок в игру через 1 день после установки\n",
        "* `retention_7` - вернулся ли игрок в игру через 7 дней после установки\n",
        "\n",
        "Когда игрок устанавливал игру, ему случайным образом назначали `gate_30` или `gate_40`."
      ]
    },
    {
      "cell_type": "code",
      "execution_count": null,
      "id": "5d32953b",
      "metadata": {
        "id": "5d32953b",
        "outputId": "e19bff24-d56e-419f-9197-a6169b9e1cf4"
      },
      "outputs": [],
      "source": [
        "import pandas as pd\n",
        "df = pd.read_csv('cookie_cats.csv')\n",
        "df.head()"
      ]
    },
    {
      "cell_type": "code",
      "execution_count": null,
      "id": "563bbcbb",
      "metadata": {
        "id": "563bbcbb",
        "outputId": "4467f65d-2988-455a-ebf0-ec78e3269d38"
      },
      "outputs": [],
      "source": [
        "df.info()"
      ]
    },
    {
      "cell_type": "markdown",
      "id": "2bd5758d",
      "metadata": {
        "id": "2bd5758d"
      },
      "source": [
        "### Вопрос 1: есть ли зависимость между возвращаемостью игроков и расположением ворот?"
      ]
    },
    {
      "cell_type": "markdown",
      "id": "c5412061",
      "metadata": {
        "id": "c5412061"
      },
      "source": [
        "#### 1.1 Проверьте гипотезу для возвращения через день"
      ]
    },
    {
      "cell_type": "markdown",
      "id": "173790d6",
      "metadata": {},
      "source": [
        "H0: Доля вернувшихся через один день одинаковая в обоих случаях\n",
        "H1: Доля вернувшихся через один день не одинаковая в обоих случаях\n",
        "Между возвращаемостью игроков в данных двух случаях не будет разницы, если доля вернувшихся одинакова вне зависимости от расположения ворот "
      ]
    },
    {
      "cell_type": "code",
      "execution_count": null,
      "id": "e7ee4751",
      "metadata": {
        "id": "e7ee4751"
      },
      "outputs": [],
      "source": [
        "proportions_ztest((df[df['version'] == 'gate_30']['retention_1'].value_counts()[1],\n",
        "                   df[df['version'] == 'gate_40']['retention_1'].value_counts()[1]), \n",
        "                  (len(df[df['version'] == 'gate_30']), len(df[df['version'] == 'gate_40'])))"
      ]
    },
    {
      "cell_type": "markdown",
      "id": "668d8321",
      "metadata": {},
      "source": [
        "Так как pvalue больше 0.05, H0 о равенстве долей принимается, то есть для доли вернувшихся через один день нет разницы, на каком уровне стоят ворота"
      ]
    },
    {
      "cell_type": "markdown",
      "id": "15ebcdad",
      "metadata": {
        "id": "15ebcdad"
      },
      "source": [
        "#### 2.2 Проверьте гипотезу для возвращения через семь дней"
      ]
    },
    {
      "cell_type": "markdown",
      "id": "65a6a18f",
      "metadata": {},
      "source": [
        "H0: Доля вернувшихся через семь дней одинаковая в обоих случаях\n",
        "H1: Доля вернувшихся через семь дней не одинаковая в обоих случаях\n",
        "Между возвращаемостью игроков в данных двух случаях не будет разницы, если доля вернувшихся одинакова вне зависимости от расположения ворот "
      ]
    },
    {
      "cell_type": "code",
      "execution_count": null,
      "id": "1703de87",
      "metadata": {
        "id": "1703de87"
      },
      "outputs": [],
      "source": [
        "proportions_ztest((df[df['version'] == 'gate_30']['retention_7'].value_counts()[1],\n",
        "                   df[df['version'] == 'gate_40']['retention_7'].value_counts()[1]), \n",
        "                   (len(df[df['version'] == 'gate_30']), len(df[df['version'] == 'gate_40'])))"
      ]
    },
    {
      "cell_type": "markdown",
      "id": "38ed1c8e",
      "metadata": {},
      "source": [
        "Так как pvalue меньше 0.05, H0 отвергается. Следовательно, возвращаемость через 7 дней не зависит от того, на каком уровне находятся ворота."
      ]
    },
    {
      "cell_type": "markdown",
      "id": "498a3f1d",
      "metadata": {
        "id": "498a3f1d"
      },
      "source": [
        "### Вопрос 2: Отличается ли среднее количество раундов в группах gate_40 и gate_30?"
      ]
    },
    {
      "cell_type": "markdown",
      "id": "ed59be34",
      "metadata": {},
      "source": [
        "H0: Мат ожидания количества раундов в двух группах равны \n",
        "H1: Мат ожидания количества раундов в двух группах не равны "
      ]
    },
    {
      "cell_type": "code",
      "execution_count": null,
      "id": "a2504ebd",
      "metadata": {
        "id": "a2504ebd"
      },
      "outputs": [],
      "source": [
        "### ╰( ͡° ͜ʖ ͡° )つ──☆ сотворите статистическую магию\n",
        "from scipy.stats import ttest_ind\n",
        "ttest_ind(df[df['version'] == 'gate_30']['sum_gamerounds'],\n",
        "          df[df['version'] == 'gate_40']['sum_gamerounds'], \n",
        "           equal_var=False)"
      ]
    },
    {
      "cell_type": "markdown",
      "id": "1d3ae33f",
      "metadata": {},
      "source": [
        "Так как pvalue больше 0.05, среднее количество пройденных раундов не зависит от того, на каком уровне находятся ворота."
      ]
    },
    {
      "cell_type": "markdown",
      "id": "e236e864",
      "metadata": {
        "id": "e236e864"
      },
      "source": [
        "### Вопрос 3: Отличается ли медианное количество раундов в группах gate_40 и gate_30?"
      ]
    },
    {
      "cell_type": "markdown",
      "id": "614cef73",
      "metadata": {},
      "source": [
        "H0: Медианы количества раундов в группах равны\n",
        "H0: Медианы количества раундов в группах не равны"
      ]
    },
    {
      "cell_type": "code",
      "execution_count": null,
      "id": "955578c4",
      "metadata": {
        "id": "955578c4"
      },
      "outputs": [],
      "source": [
        "### ╰( ͡° ͜ʖ ͡° )つ──☆ сотворите статистическую магию\n",
        "from scipy.stats import median_test\n",
        "median_test(df[df['version'] == 'gate_30']['sum_gamerounds'],\n",
        "            df[df['version'] == 'gate_40']['sum_gamerounds'])"
      ]
    },
    {
      "cell_type": "markdown",
      "id": "85e4881b",
      "metadata": {},
      "source": [
        "Так как pvalue меньше 0.05, гипотеза о равенстве медиан отклоняется."
      ]
    },
    {
      "cell_type": "markdown",
      "id": "03f0c2b4",
      "metadata": {
        "id": "03f0c2b4"
      },
      "source": [
        "## Задача 4: Время покемонов (3 балла)"
      ]
    },
    {
      "cell_type": "markdown",
      "id": "413f4923",
      "metadata": {
        "id": "413f4923"
      },
      "source": [
        "В данной задаче вам будет необходимо проанализировать различные характеристики покемонов и сравнить их между собой"
      ]
    },
    {
      "cell_type": "markdown",
      "id": "a253705e",
      "metadata": {
        "id": "a253705e"
      },
      "source": [
        "<p style=\"align: center;\"><img align=center src=\"https://proprikol.ru/wp-content/uploads/2020/11/kartinki-pokemonov-2.jpg\"  width=500></p>"
      ]
    },
    {
      "cell_type": "markdown",
      "id": "1810bfee",
      "metadata": {
        "id": "1810bfee"
      },
      "source": [
        "Покемоны - это маленькие существа, которые сражаются друг с другом на соревнованиях. Все покемоны имеют разные характеристики (сила атаки, защиты и т. д.) и относятся к одному или двум так называемым классам (вода, огонь и т. д.). Профессор Оук является изобретателем Pokedex, портативного устройства, которое хранит информацию обо всех существующих покемонах. Как его ведущий специалист по данным, Вы только что получили от него запрос с просьбой осуществить аналитику данных на всех устройствах Pokedex."
      ]
    },
    {
      "cell_type": "markdown",
      "id": "19045811",
      "metadata": {
        "id": "19045811"
      },
      "source": [
        "### Описание данных\n",
        "\n",
        "Профессор Оук скопировал все содержимое память одного устройства Pokedex, в результате чего получился набор данных, с которым Вы будете работать в этой задаче. В этом файле каждая строка представляет характеристики одного покемона:\n",
        "\n",
        "* pid: Numeric - ID покемона\n",
        "* HP: Numeric - Очки здоровья\n",
        "* Attack: Numeric - Сила обычной атаки\n",
        "* Defense: Numeric - Сила обычной защиты\n",
        "* Sp. Atk: Numeric - Сила специальной атаки\n",
        "* Sp. Def: Numeric - Сила специальной защиты\n",
        "* Speed: Numeric - Скорость движений\n",
        "* Legendary: Boolean - «True», если покемон редкий\n",
        "* Class 1: Categorical - Класс покемона\n",
        "* Class 2: Categorical - Класс покемона"
      ]
    },
    {
      "cell_type": "code",
      "execution_count": null,
      "id": "a222efae",
      "metadata": {},
      "outputs": [],
      "source": [
        "df = pd.read_csv('pokemon.csv')\n",
        "df.head()"
      ]
    },
    {
      "cell_type": "markdown",
      "id": "216b24ea",
      "metadata": {
        "id": "216b24ea"
      },
      "source": [
        "### Вопрос 1"
      ]
    },
    {
      "cell_type": "markdown",
      "id": "83dadefc",
      "metadata": {
        "id": "83dadefc"
      },
      "source": [
        "Профессор Оук подозревает, что покемоны в классе `grass` имеют более сильную обычную атаку, чем у покемонов в классе `rock`. Проверьте, прав ли он, и убедите его в своем выводе статистически. "
      ]
    },
    {
      "cell_type": "markdown",
      "id": "78ce1415",
      "metadata": {},
      "source": [
        "H0: Мат ожидания обычной атаки в классе grass совпадает с мат ожидание в клaссе rock\n",
        "H1: Мат ожидания обычной атаки в классе grass больше мат ожидания в клaссе rock"
      ]
    },
    {
      "cell_type": "code",
      "execution_count": null,
      "id": "fb6a5007",
      "metadata": {
        "id": "fb6a5007"
      },
      "outputs": [],
      "source": [
        "ttest_ind(df[df['Class 1'] == 'Grass']['Attack'], \n",
        "            df[df['Class 1'] == 'Rock']['Attack'], \n",
        "            alternative='greater', equal_var=False)"
      ]
    },
    {
      "cell_type": "markdown",
      "id": "b98e1b99",
      "metadata": {},
      "source": [
        "Так как pvalue больше меньше 0.05, гипотеза о равенстве мат ожиданий не отвергается. Следовательно, профессор не прав."
      ]
    },
    {
      "cell_type": "markdown",
      "id": "efe3805e",
      "metadata": {
        "id": "efe3805e"
      },
      "source": [
        "### Вопрос 2"
      ]
    },
    {
      "cell_type": "markdown",
      "id": "17da5f4e",
      "metadata": {},
      "source": [
        "H0: Мат ожидания силы обычной атаки равно мат ожиданию обычной защиты\n",
        "H1: Мат ожидания силы обычной атаки не равно мат ожиданию обычной защиты\n"
      ]
    },
    {
      "cell_type": "markdown",
      "id": "baeb5aeb",
      "metadata": {
        "id": "baeb5aeb"
      },
      "source": [
        "Также профессор Оук очень хочет проверить, правда ли нет значимой разницы между силой обычной атаки и силой обычной защиты у покемонов. Помогите ему и ответьте на вопрос, подтвердив свои выводы с помощью проверки статистических гипотез"
      ]
    },
    {
      "cell_type": "code",
      "execution_count": null,
      "id": "a8ae940e",
      "metadata": {
        "id": "a8ae940e"
      },
      "outputs": [],
      "source": [
        "ttest_ind(df['Attack'], \n",
        "          df['Defense'], \n",
        "         equal_var=False)"
      ]
    },
    {
      "cell_type": "markdown",
      "id": "d87eea62",
      "metadata": {},
      "source": [
        "Так как pvalue меньше 0.05, гипотеза о равенстве мат ожиданий сил обычной атаки и обычной защиты отвергается."
      ]
    },
    {
      "cell_type": "markdown",
      "id": "55c372da",
      "metadata": {
        "id": "55c372da"
      },
      "source": [
        "### Вопрос 3"
      ]
    },
    {
      "cell_type": "markdown",
      "id": "781cbb94",
      "metadata": {
        "id": "781cbb94"
      },
      "source": [
        "И последний вопрос, который мучает профессора Оука: правда ли, что средняя скорость покемонов превышает 66.6 ? Сформулируйте подходящие гипотезы и помогите профессору Оуку, ответив на вопрос."
      ]
    },
    {
      "cell_type": "markdown",
      "id": "81a8256e",
      "metadata": {},
      "source": [
        "H0: Мат ожидание скорости покемонов равно 66.6 .\n",
        "H1: Мат ожидание скорости покемонов превышает 66.6 ."
      ]
    },
    {
      "cell_type": "code",
      "execution_count": null,
      "id": "aefbfc32",
      "metadata": {
        "id": "aefbfc32"
      },
      "outputs": [],
      "source": [
        "### ╰( ͡° ͜ʖ ͡° )つ──☆ сотворите статистическую магию\n",
        "from scipy.stats import ttest_1samp\n",
        "ttest_1samp(df['Speed'], popmean=66.6, alternative='greater')"
      ]
    },
    {
      "cell_type": "markdown",
      "id": "b5211503",
      "metadata": {},
      "source": [
        "Так как pvalue больше 0.05, H0 о равенстве мат ожидания скорости покемонов 66.6 принимается.\n",
        "Следовательно, профессор не прав."
      ]
    }
  ],
  "metadata": {
    "colab": {
      "name": "DZ3_DS.ipynb",
      "provenance": []
    },
    "kernelspec": {
      "display_name": "Python 3.10.4 64-bit (windows store)",
      "language": "python",
      "name": "python3"
    },
    "language_info": {
      "codemirror_mode": {
        "name": "ipython",
        "version": 3
      },
      "file_extension": ".py",
      "mimetype": "text/x-python",
      "name": "python",
      "nbconvert_exporter": "python",
      "pygments_lexer": "ipython3",
      "version": "3.10.4"
    },
    "vscode": {
      "interpreter": {
        "hash": "5446dcbb0f2df12f743acade3cf2cdaf2a348c67ba351a3a9921d96789447493"
      }
    }
  },
  "nbformat": 4,
  "nbformat_minor": 5
}
